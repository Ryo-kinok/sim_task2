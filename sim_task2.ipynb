{
  "nbformat": 4,
  "nbformat_minor": 0,
  "metadata": {
    "colab": {
      "name": "sim_task2.ipynb",
      "provenance": []
    },
    "kernelspec": {
      "name": "python3",
      "display_name": "Python 3"
    },
    "language_info": {
      "name": "python"
    }
  },
  "cells": [
    {
      "cell_type": "code",
      "metadata": {
        "id": "YIkYKvbPIoHK"
      },
      "source": [
        "import numpy as np\n",
        "import random\n",
        "from PIL import Image, ImageDraw\n",
        "\n",
        "cells = 100  # 縦(横)のセル数\n",
        "side = 2  # 1つのセルの一辺ピクセル数\n",
        "\n",
        "\n",
        "\n",
        "# 　各セルの状態を描画する関数\n",
        "def image():\n",
        "  global cell,image_list\n",
        "  im = Image.new('RGB', (cells*side, cells*side), (0, 0, 0))\n",
        "  draw = ImageDraw.Draw(im)\n",
        "  for y in range(cells):\n",
        "      for x in range(cells):\n",
        "          if cell[y, x] == 0:  # セル値0は白\n",
        "              color = (255, 255, 255)\n",
        "          if cell[y, x] == 1:  # セル値1は黒\n",
        "              color = (0, 0, 0)\n",
        "          draw.rectangle(((x-1)*side, (y-1)*side, x*side, y*side), fill=color)        \n",
        "  image_list.append(im)\n",
        "\n",
        "def simuration(start_in,eca_num):\n",
        "  global cell,image_list\n",
        "  cell = np.zeros((cells, cells))  # 各セルの状態を記録するndarray\n",
        "  cell[0] = start_in  # 初期設定\n",
        "\n",
        "  trans = np.copy(cell)  # 各セルの次のステップの状態を記録するndarrayにコピー\n",
        "\n",
        "  b_en_s = bin(eca_num)[2:]\n",
        "  b_en = []\n",
        "  ii = 0\n",
        "  for tt in b_en_s:\n",
        "    b_en.append(int(tt))\n",
        "    ii += 1\n",
        "\n",
        "  while ii < 8:\n",
        "    b_en.insert(0,0)\n",
        "    ii += 1\n",
        "\n",
        "  def next_dot(pre_d_l):\n",
        "\n",
        "    pre_s = pre_d_l[0] * 4\n",
        "    pre_s += pre_d_l[1] * 2\n",
        "    pre_s += pre_d_l[2]\n",
        "    return b_en[int(pre_s)]\n",
        "\n",
        "  image_list = []  # 各時間ごとのセルの状態画像を保存するリスト　\n",
        "  image()  # 各セルの状態を描画する関数を呼び出し\n",
        "\n",
        "  for t in range(cells-1):\n",
        "      print(\"\\r\"+str(t) + \"/\"+str(cells-1),end=\"\")\n",
        "      for x in range(cells):\n",
        "        if x == 0:\n",
        "          pre_d_l = [cell[t,cells-1],cell[t,0],cell[t,1]]\n",
        "        elif x == cells-1:\n",
        "          pre_d_l = [cell[t,x-1],cell[t,x],cell[t,0]]\n",
        "        else:\n",
        "          pre_d_l = [cell[t,x-1],cell[t,x],cell[t,x+1]]\n",
        "        trans[t+1, x] = next_dot(pre_d_l)\n",
        "\n",
        "      cell = np.copy(trans)  # transをcellにコピー\n",
        "      image()  # 各セルの状態を描画する関数を呼び出し"
      ],
      "execution_count": 1,
      "outputs": []
    },
    {
      "cell_type": "code",
      "metadata": {
        "colab": {
          "base_uri": "https://localhost:8080/"
        },
        "id": "LB0A_Bx2MgU6",
        "outputId": "d1c5ed43-e089-4372-ba62-68a74a86f3cf"
      },
      "source": [
        "start_in_1 = []\n",
        "for kk in range(20): start_in_1.extend([0,0,1,0,0])\n",
        "start_in_1[:10]"
      ],
      "execution_count": 2,
      "outputs": [
        {
          "output_type": "execute_result",
          "data": {
            "text/plain": [
              "[0, 0, 1, 0, 0, 0, 0, 1, 0, 0]"
            ]
          },
          "metadata": {
            "tags": []
          },
          "execution_count": 2
        }
      ]
    },
    {
      "cell_type": "code",
      "metadata": {
        "colab": {
          "base_uri": "https://localhost:8080/"
        },
        "id": "dWAlpn9BP_hu",
        "outputId": "8f48566c-adf7-4f04-ee35-6dcb2a41fed8"
      },
      "source": [
        "start_in_2 = []\n",
        "for kk in range(10): start_in_2.extend([0,0,0,1,1,0,0,1,0,0])\n",
        "start_in_2[:10]"
      ],
      "execution_count": 3,
      "outputs": [
        {
          "output_type": "execute_result",
          "data": {
            "text/plain": [
              "[0, 0, 0, 1, 1, 0, 0, 1, 0, 0]"
            ]
          },
          "metadata": {
            "tags": []
          },
          "execution_count": 3
        }
      ]
    },
    {
      "cell_type": "code",
      "metadata": {
        "colab": {
          "base_uri": "https://localhost:8080/",
          "height": 235
        },
        "id": "-693MpK-Mj5u",
        "outputId": "ee2a0360-81f5-4846-9b24-6fc45a3d2f2c"
      },
      "source": [
        "simuration(start_in_1,60)\n",
        "image_list[-1]"
      ],
      "execution_count": 4,
      "outputs": [
        {
          "output_type": "stream",
          "text": [
            "98/99"
          ],
          "name": "stdout"
        },
        {
          "output_type": "execute_result",
          "data": {
            "image/png": "[encoded data removed]",
            "text/plain": [
              "<PIL.Image.Image image mode=RGB size=200x200 at 0x7F96DAA95F50>"
            ]
          },
          "metadata": {
            "tags": []
          },
          "execution_count": 4
        }
      ]
    },
    {
      "cell_type": "code",
      "metadata": {
        "colab": {
          "base_uri": "https://localhost:8080/",
          "height": 235
        },
        "id": "L4DM9MbLSCO7",
        "outputId": "f61d6a8a-7cee-404a-b84b-2d036b2e7087"
      },
      "source": [
        "simuration(start_in_1,102)\n",
        "image_list[-1]"
      ],
      "execution_count": 5,
      "outputs": [
        {
          "output_type": "stream",
          "text": [
            "98/99"
          ],
          "name": "stdout"
        },
        {
          "output_type": "execute_result",
          "data": {
            "image/png": "[encoded data removed]",
            "text/plain": [
              "<PIL.Image.Image image mode=RGB size=200x200 at 0x7F96DAA956D0>"
            ]
          },
          "metadata": {
            "tags": []
          },
          "execution_count": 5
        }
      ]
    },
    {
      "cell_type": "code",
      "metadata": {
        "colab": {
          "base_uri": "https://localhost:8080/",
          "height": 235
        },
        "id": "npNjxqQ1WZmg",
        "outputId": "e746a38c-0688-4a39-a302-299d833130cf"
      },
      "source": [
        "simuration(start_in_1,195)\n",
        "image_list[-1]"
      ],
      "execution_count": 16,
      "outputs": [
        {
          "output_type": "stream",
          "text": [
            "98/99"
          ],
          "name": "stdout"
        },
        {
          "output_type": "execute_result",
          "data": {
            "image/png": "[encoded data removed]",
            "text/plain": [
              "<PIL.Image.Image image mode=RGB size=200x200 at 0x7F96DAA13ED0>"
            ]
          },
          "metadata": {
            "tags": []
          },
          "execution_count": 16
        }
      ]
    },
    {
      "cell_type": "code",
      "metadata": {
        "colab": {
          "base_uri": "https://localhost:8080/",
          "height": 235
        },
        "id": "2jxrHaBhWbQb",
        "outputId": "5c5e5766-9018-4953-ce4c-97712657d2b4"
      },
      "source": [
        "simuration(start_in_1,153)\n",
        "image_list[-1]"
      ],
      "execution_count": 17,
      "outputs": [
        {
          "output_type": "stream",
          "text": [
            "98/99"
          ],
          "name": "stdout"
        },
        {
          "output_type": "execute_result",
          "data": {
            "image/png": "[encoded data removed]",
            "text/plain": [
              "<PIL.Image.Image image mode=RGB size=200x200 at 0x7F96DAA8CA10>"
            ]
          },
          "metadata": {
            "tags": []
          },
          "execution_count": 17
        }
      ]
    },
    {
      "cell_type": "code",
      "metadata": {
        "colab": {
          "base_uri": "https://localhost:8080/",
          "height": 235
        },
        "id": "_kcgPlWedQ-4",
        "outputId": "7723eca2-10a5-4739-fbca-3f7a4ec5b2fa"
      },
      "source": [
        "simuration(start_in_1,61)\n",
        "image_list[-1]"
      ],
      "execution_count": 8,
      "outputs": [
        {
          "output_type": "stream",
          "text": [
            "98/99"
          ],
          "name": "stdout"
        },
        {
          "output_type": "execute_result",
          "data": {
            "image/png": "[encoded data removed]",
            "text/plain": [
              "<PIL.Image.Image image mode=RGB size=200x200 at 0x7F96DAA957D0>"
            ]
          },
          "metadata": {
            "tags": []
          },
          "execution_count": 8
        }
      ]
    },
    {
      "cell_type": "code",
      "metadata": {
        "colab": {
          "base_uri": "https://localhost:8080/",
          "height": 235
        },
        "id": "UVXwSaCJSb_R",
        "outputId": "90780b9d-7357-42ca-a7b1-acbc973d42e9"
      },
      "source": [
        "simuration(start_in_2,60)\n",
        "image_list[-1]"
      ],
      "execution_count": 6,
      "outputs": [
        {
          "output_type": "stream",
          "text": [
            "98/99"
          ],
          "name": "stdout"
        },
        {
          "output_type": "execute_result",
          "data": {
            "image/png": "[encoded data removed]",
            "text/plain": [
              "<PIL.Image.Image image mode=RGB size=200x200 at 0x7F96DAA95750>"
            ]
          },
          "metadata": {
            "tags": []
          },
          "execution_count": 6
        }
      ]
    },
    {
      "cell_type": "code",
      "metadata": {
        "colab": {
          "base_uri": "https://localhost:8080/",
          "height": 235
        },
        "id": "8pgurf02SjxB",
        "outputId": "fe52cb5b-910a-4845-afcf-4ea03a080855"
      },
      "source": [
        "simuration(start_in_2,102)\n",
        "image_list[-1]"
      ],
      "execution_count": 7,
      "outputs": [
        {
          "output_type": "stream",
          "text": [
            "98/99"
          ],
          "name": "stdout"
        },
        {
          "output_type": "execute_result",
          "data": {
            "image/png": "[encoded data removed]",
            "text/plain": [
              "<PIL.Image.Image image mode=RGB size=200x200 at 0x7F96DAA8C290>"
            ]
          },
          "metadata": {
            "tags": []
          },
          "execution_count": 7
        }
      ]
    },
    {
      "cell_type": "code",
      "metadata": {
        "colab": {
          "base_uri": "https://localhost:8080/",
          "height": 235
        },
        "id": "SIzm50HtW8D4",
        "outputId": "45770a79-d0be-4417-9d08-b9c3be78d897"
      },
      "source": [
        "simuration(start_in_2,195)\n",
        "image_list[-1]"
      ],
      "execution_count": 18,
      "outputs": [
        {
          "output_type": "stream",
          "text": [
            "98/99"
          ],
          "name": "stdout"
        },
        {
          "output_type": "execute_result",
          "data": {
            "image/png": "[encoded data removed]",
            "text/plain": [
              "<PIL.Image.Image image mode=RGB size=200x200 at 0x7F96DA957AD0>"
            ]
          },
          "metadata": {
            "tags": []
          },
          "execution_count": 18
        }
      ]
    },
    {
      "cell_type": "code",
      "metadata": {
        "colab": {
          "base_uri": "https://localhost:8080/",
          "height": 235
        },
        "id": "VFbuCumUW92p",
        "outputId": "97b6461b-6fe4-4e0f-ce51-5db5cb81ac9a"
      },
      "source": [
        "simuration(start_in_1,153)\n",
        "image_list[-1]"
      ],
      "execution_count": 19,
      "outputs": [
        {
          "output_type": "stream",
          "text": [
            "98/99"
          ],
          "name": "stdout"
        },
        {
          "output_type": "execute_result",
          "data": {
            "image/png": "[encoded data removed]",
            "text/plain": [
              "<PIL.Image.Image image mode=RGB size=200x200 at 0x7F96DA9CC6D0>"
            ]
          },
          "metadata": {
            "tags": []
          },
          "execution_count": 19
        }
      ]
    },
    {
      "cell_type": "code",
      "metadata": {
        "colab": {
          "base_uri": "https://localhost:8080/",
          "height": 235
        },
        "id": "Ha56vqADdTyi",
        "outputId": "c374df8f-9fa0-4172-8624-a8ccb799e0ed"
      },
      "source": [
        "simuration(start_in_2,61)\n",
        "image_list[-1]"
      ],
      "execution_count": 9,
      "outputs": [
        {
          "output_type": "stream",
          "text": [
            "98/99"
          ],
          "name": "stdout"
        },
        {
          "output_type": "execute_result",
          "data": {
            "image/png": "[encoded data removed]",
            "text/plain": [
              "<PIL.Image.Image image mode=RGB size=200x200 at 0x7F96DAA43C90>"
            ]
          },
          "metadata": {
            "tags": []
          },
          "execution_count": 9
        }
      ]
    },
    {
      "cell_type": "markdown",
      "metadata": {
        "id": "u1Svhon7IiOE"
      },
      "source": [
        ""
      ]
    },
    {
      "cell_type": "code",
      "metadata": {
        "colab": {
          "base_uri": "https://localhost:8080/",
          "height": 235
        },
        "id": "q_zpwpBpIi9y",
        "outputId": "9ed55b18-b6a4-4224-9b7a-df9d2d5781cc"
      },
      "source": [
        "simuration(start_in_1,90)\n",
        "image_list[-1]"
      ],
      "execution_count": 10,
      "outputs": [
        {
          "output_type": "stream",
          "text": [
            "98/99"
          ],
          "name": "stdout"
        },
        {
          "output_type": "execute_result",
          "data": {
            "image/png": "[encoded data removed]",
            "text/plain": [
              "<PIL.Image.Image image mode=RGB size=200x200 at 0x7F96DAA8CE10>"
            ]
          },
          "metadata": {
            "tags": []
          },
          "execution_count": 10
        }
      ]
    },
    {
      "cell_type": "code",
      "metadata": {
        "colab": {
          "base_uri": "https://localhost:8080/",
          "height": 235
        },
        "id": "adWn81CYYdkS",
        "outputId": "d1a2196a-b605-4051-a8a1-d1a1ebd1e049"
      },
      "source": [
        "simuration(start_in_1,165)\n",
        "image_list[-1]"
      ],
      "execution_count": 20,
      "outputs": [
        {
          "output_type": "stream",
          "text": [
            "98/99"
          ],
          "name": "stdout"
        },
        {
          "output_type": "execute_result",
          "data": {
            "image/png": "[encoded data removed]",
            "text/plain": [
              "<PIL.Image.Image image mode=RGB size=200x200 at 0x7F96DAA8C350>"
            ]
          },
          "metadata": {
            "tags": []
          },
          "execution_count": 20
        }
      ]
    },
    {
      "cell_type": "code",
      "metadata": {
        "colab": {
          "base_uri": "https://localhost:8080/",
          "height": 235
        },
        "id": "czeKwav9In5f",
        "outputId": "340b9d0b-33ed-4ec9-c313-a98e0edb2fe2"
      },
      "source": [
        "simuration(start_in_2,90)\n",
        "image_list[-1]"
      ],
      "execution_count": 11,
      "outputs": [
        {
          "output_type": "stream",
          "text": [
            "98/99"
          ],
          "name": "stdout"
        },
        {
          "output_type": "execute_result",
          "data": {
            "image/png": "[encoded data removed]",
            "text/plain": [
              "<PIL.Image.Image image mode=RGB size=200x200 at 0x7F96DAA2D290>"
            ]
          },
          "metadata": {
            "tags": []
          },
          "execution_count": 11
        }
      ]
    },
    {
      "cell_type": "code",
      "metadata": {
        "colab": {
          "base_uri": "https://localhost:8080/",
          "height": 235
        },
        "id": "uVypWTlQYh-g",
        "outputId": "79aaaff0-c70a-4a43-b4d1-93719eae7a09"
      },
      "source": [
        "simuration(start_in_2,165)\n",
        "image_list[-1]"
      ],
      "execution_count": 21,
      "outputs": [
        {
          "output_type": "stream",
          "text": [
            "98/99"
          ],
          "name": "stdout"
        },
        {
          "output_type": "execute_result",
          "data": {
            "image/png": "[encoded data removed]",
            "text/plain": [
              "<PIL.Image.Image image mode=RGB size=200x200 at 0x7F96DA9C25D0>"
            ]
          },
          "metadata": {
            "tags": []
          },
          "execution_count": 21
        }
      ]
    },
    {
      "cell_type": "markdown",
      "metadata": {
        "id": "ZhkLm5rmSq90"
      },
      "source": [
        ""
      ]
    },
    {
      "cell_type": "code",
      "metadata": {
        "colab": {
          "base_uri": "https://localhost:8080/",
          "height": 235
        },
        "id": "E9p6j_j_SrJV",
        "outputId": "c30cf694-37e5-4cca-c93c-7d40f7515cef"
      },
      "source": [
        "simuration(start_in_1,184)\n",
        "image_list[-1]"
      ],
      "execution_count": 12,
      "outputs": [
        {
          "output_type": "stream",
          "text": [
            "98/99"
          ],
          "name": "stdout"
        },
        {
          "output_type": "execute_result",
          "data": {
            "image/png": "[encoded data removed]",
            "text/plain": [
              "<PIL.Image.Image image mode=RGB size=200x200 at 0x7F96DA957F50>"
            ]
          },
          "metadata": {
            "tags": []
          },
          "execution_count": 12
        }
      ]
    },
    {
      "cell_type": "code",
      "metadata": {
        "colab": {
          "base_uri": "https://localhost:8080/",
          "height": 235
        },
        "id": "iwHyK9ttSwj0",
        "outputId": "ca82acc0-53da-4c4d-ae2a-287b26343ee5"
      },
      "source": [
        "simuration(start_in_1,226)\n",
        "image_list[-1]"
      ],
      "execution_count": 13,
      "outputs": [
        {
          "output_type": "stream",
          "text": [
            "98/99"
          ],
          "name": "stdout"
        },
        {
          "output_type": "execute_result",
          "data": {
            "image/png": "[encoded data removed]",
            "text/plain": [
              "<PIL.Image.Image image mode=RGB size=200x200 at 0x7F96E05774D0>"
            ]
          },
          "metadata": {
            "tags": []
          },
          "execution_count": 13
        }
      ]
    },
    {
      "cell_type": "code",
      "metadata": {
        "colab": {
          "base_uri": "https://localhost:8080/",
          "height": 235
        },
        "id": "Wsd0pJPDaiKc",
        "outputId": "28d89c24-5131-4342-b4f2-c955adc189fc"
      },
      "source": [
        "simuration(start_in_2,184)\n",
        "image_list[-1]"
      ],
      "execution_count": 23,
      "outputs": [
        {
          "output_type": "stream",
          "text": [
            "98/99"
          ],
          "name": "stdout"
        },
        {
          "output_type": "execute_result",
          "data": {
            "image/png": "[encoded data removed]",
            "text/plain": [
              "<PIL.Image.Image image mode=RGB size=200x200 at 0x7F96E06E7B90>"
            ]
          },
          "metadata": {
            "tags": []
          },
          "execution_count": 23
        }
      ]
    },
    {
      "cell_type": "code",
      "metadata": {
        "colab": {
          "base_uri": "https://localhost:8080/",
          "height": 235
        },
        "id": "5aiYFijiakZ1",
        "outputId": "8acd006e-93d4-4b8b-e923-f3f4681da439"
      },
      "source": [
        "simuration(start_in_2,226)\n",
        "image_list[-1]"
      ],
      "execution_count": 24,
      "outputs": [
        {
          "output_type": "stream",
          "text": [
            "98/99"
          ],
          "name": "stdout"
        },
        {
          "output_type": "execute_result",
          "data": {
            "image/png": "[encoded data removed]",
            "text/plain": [
              "<PIL.Image.Image image mode=RGB size=200x200 at 0x7F96DA96B9D0>"
            ]
          },
          "metadata": {
            "tags": []
          },
          "execution_count": 24
        }
      ]
    }
  ]
}